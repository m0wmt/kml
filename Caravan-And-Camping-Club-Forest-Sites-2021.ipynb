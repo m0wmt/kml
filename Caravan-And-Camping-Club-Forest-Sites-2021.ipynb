{
 "cells": [
  {
   "cell_type": "markdown",
   "metadata": {},
   "source": [
    "# Caravan and Camping Club POI Generator 2021"
   ]
  },
  {
   "cell_type": "code",
   "execution_count": 1,
   "metadata": {
    "ExecuteTime": {
     "end_time": "2020-06-24T13:25:42.549789Z",
     "start_time": "2020-06-24T13:25:37.828485Z"
    }
   },
   "outputs": [
    {
     "name": "stdout",
     "output_type": "stream",
     "text": [
      "Requirement already satisfied: simplekml in /opt/conda/lib/python3.7/site-packages (1.3.5)\n",
      "Requirement already satisfied: pandas in /opt/conda/lib/python3.7/site-packages (1.0.5)\n",
      "Requirement already satisfied: pytz>=2017.2 in /opt/conda/lib/python3.7/site-packages (from pandas) (2020.1)\n",
      "Requirement already satisfied: numpy>=1.13.3 in /opt/conda/lib/python3.7/site-packages (from pandas) (1.19.0)\n",
      "Requirement already satisfied: python-dateutil>=2.6.1 in /opt/conda/lib/python3.7/site-packages (from pandas) (2.8.1)\n",
      "Requirement already satisfied: six>=1.5 in /opt/conda/lib/python3.7/site-packages (from python-dateutil>=2.6.1->pandas) (1.15.0)\n",
      "Requirement already satisfied: folium in /opt/conda/lib/python3.7/site-packages (0.11.0)\n",
      "Requirement already satisfied: requests in /opt/conda/lib/python3.7/site-packages (from folium) (2.24.0)\n",
      "Requirement already satisfied: jinja2>=2.9 in /opt/conda/lib/python3.7/site-packages (from folium) (2.11.2)\n",
      "Requirement already satisfied: branca>=0.3.0 in /opt/conda/lib/python3.7/site-packages (from folium) (0.4.1)\n",
      "Requirement already satisfied: numpy in /opt/conda/lib/python3.7/site-packages (from folium) (1.19.0)\n",
      "Requirement already satisfied: certifi>=2017.4.17 in /opt/conda/lib/python3.7/site-packages (from requests->folium) (2020.4.5.2)\n",
      "Requirement already satisfied: chardet<4,>=3.0.2 in /opt/conda/lib/python3.7/site-packages (from requests->folium) (3.0.4)\n",
      "Requirement already satisfied: idna<3,>=2.5 in /opt/conda/lib/python3.7/site-packages (from requests->folium) (2.9)\n",
      "Requirement already satisfied: urllib3!=1.25.0,!=1.25.1,<1.26,>=1.21.1 in /opt/conda/lib/python3.7/site-packages (from requests->folium) (1.25.9)\n",
      "Requirement already satisfied: MarkupSafe>=0.23 in /opt/conda/lib/python3.7/site-packages (from jinja2>=2.9->folium) (1.1.1)\n"
     ]
    }
   ],
   "source": [
    "# Install any missing libraries\n",
    "!pip install simplekml\n",
    "!pip install pandas\n",
    "!pip install folium"
   ]
  },
  {
   "cell_type": "code",
   "execution_count": 1,
   "metadata": {
    "ExecuteTime": {
     "end_time": "2021-06-04T11:20:45.787779Z",
     "start_time": "2021-06-04T11:20:45.235943Z"
    },
    "scrolled": true
   },
   "outputs": [],
   "source": [
    "# imports\n",
    "import pandas as pd\n",
    "import simplekml\n",
    "import folium"
   ]
  },
  {
   "cell_type": "code",
   "execution_count": 4,
   "metadata": {
    "ExecuteTime": {
     "end_time": "2021-06-04T11:22:53.008740Z",
     "start_time": "2021-06-04T11:22:52.994919Z"
    }
   },
   "outputs": [
    {
     "name": "stdout",
     "output_type": "stream",
     "text": [
      "   Longitude   Latitude                                            Address\n",
      "0  -1.530129  50.889452       \"Ashurst  New Forest SO40 7AR>02380 292097\"\"\n",
      "1  -2.624735  51.812785  \"Bracelands  Forest of Dean GL16 7NP>01594 837...\n",
      "2  -4.581170  56.112450        \"Cashel  Loch Lomond G63 0AW>01360 870234\"\"\n",
      "3  -4.366124  56.158363       \"Cobleland  Trossachs FK8 3RR>01877 382392\"\"\n",
      "4  -1.526756  50.861170    \"Denny Wood  New Forest SO43 7FZ>02380 293144\"\"\n",
      "0         \"Ashurst  New Forest SO40 7AR>02380 292097\"\"\n",
      "1    \"Bracelands  Forest of Dean GL16 7NP>01594 837...\n",
      "2          \"Cashel  Loch Lomond G63 0AW>01360 870234\"\"\n",
      "3         \"Cobleland  Trossachs FK8 3RR>01877 382392\"\"\n",
      "4      \"Denny Wood  New Forest SO43 7FZ>02380 293144\"\"\n",
      "Name: Address, dtype: object\n"
     ]
    }
   ],
   "source": [
    "df = pd.read_csv(\"data/Camping-in-the-Forest.csv\",names=['Longitude','Latitude','Address'], header=0, sep=',')\n",
    "print(df.head(5))\n",
    "print(df['Address'].head())"
   ]
  },
  {
   "cell_type": "markdown",
   "metadata": {},
   "source": [
    "### Extract Site Name, Telephone Number, and Address in to their own columns"
   ]
  },
  {
   "cell_type": "code",
   "execution_count": 8,
   "metadata": {
    "ExecuteTime": {
     "end_time": "2021-06-04T11:30:07.773527Z",
     "start_time": "2021-06-04T11:30:07.745466Z"
    }
   },
   "outputs": [
    {
     "name": "stdout",
     "output_type": "stream",
     "text": [
      "                                       0               1\n",
      "0          \"Ashurst  New Forest SO40 7AR  02380 292097\"\"\n",
      "1   \"Bracelands  Forest of Dean GL16 7NP  01594 837258\"\"\n",
      "2           \"Cashel  Loch Lomond G63 0AW  01360 870234\"\"\n",
      "3          \"Cobleland  Trossachs FK8 3RR  01877 382392\"\"\n",
      "4       \"Denny Wood  New Forest SO43 7FZ  02380 293144\"\"\n",
      "5         \"Glenmore  Cairngorms PH22 1QU  01479 861271\"\"\n",
      "6    \"Hollands Wood  New Forest SO42 7QH  01590 622967\"\"\n",
      "7         \"Holmsley  New Forest BH23 8EB  01425 674502\"\"\n",
      "8        \"Longbeech  New Forest SO43 7HH  02380 812740\"\"\n",
      "9      \"Matley Wood  New Forest SO43 7FZ  02380 293144\"\"\n",
      "10         \"Ocknell  New Forest SO43 7HH  02380 812740\"\"\n",
      "11      \"Postern Hill  Wiltshire SN8 4ND  01672 515195\"\"\n",
      "12       \"Roundhill  New Forest SO42 7QL  01590 624344\"\"\n",
      "13       \"Setthorns  New Forest BH25 5WA  01590 681020\"\"\n"
     ]
    },
    {
     "data": {
      "text/html": [
       "<div>\n",
       "<style scoped>\n",
       "    .dataframe tbody tr th:only-of-type {\n",
       "        vertical-align: middle;\n",
       "    }\n",
       "\n",
       "    .dataframe tbody tr th {\n",
       "        vertical-align: top;\n",
       "    }\n",
       "\n",
       "    .dataframe thead th {\n",
       "        text-align: right;\n",
       "    }\n",
       "</style>\n",
       "<table border=\"1\" class=\"dataframe\">\n",
       "  <thead>\n",
       "    <tr style=\"text-align: right;\">\n",
       "      <th></th>\n",
       "      <th>Longitude</th>\n",
       "      <th>Latitude</th>\n",
       "      <th>PhoneNumber</th>\n",
       "      <th>Town</th>\n",
       "    </tr>\n",
       "  </thead>\n",
       "  <tbody>\n",
       "    <tr>\n",
       "      <th>0</th>\n",
       "      <td>-1.530129</td>\n",
       "      <td>50.889452</td>\n",
       "      <td>02380 292097</td>\n",
       "      <td>\"Ashurst  New Forest SO40 7AR</td>\n",
       "    </tr>\n",
       "    <tr>\n",
       "      <th>1</th>\n",
       "      <td>-2.624735</td>\n",
       "      <td>51.812785</td>\n",
       "      <td>01594 837258</td>\n",
       "      <td>\"Bracelands  Forest of Dean GL16 7NP</td>\n",
       "    </tr>\n",
       "    <tr>\n",
       "      <th>2</th>\n",
       "      <td>-4.581170</td>\n",
       "      <td>56.112450</td>\n",
       "      <td>01360 870234</td>\n",
       "      <td>\"Cashel  Loch Lomond G63 0AW</td>\n",
       "    </tr>\n",
       "    <tr>\n",
       "      <th>3</th>\n",
       "      <td>-4.366124</td>\n",
       "      <td>56.158363</td>\n",
       "      <td>01877 382392</td>\n",
       "      <td>\"Cobleland  Trossachs FK8 3RR</td>\n",
       "    </tr>\n",
       "    <tr>\n",
       "      <th>4</th>\n",
       "      <td>-1.526756</td>\n",
       "      <td>50.861170</td>\n",
       "      <td>02380 293144</td>\n",
       "      <td>\"Denny Wood  New Forest SO43 7FZ</td>\n",
       "    </tr>\n",
       "    <tr>\n",
       "      <th>5</th>\n",
       "      <td>-3.694239</td>\n",
       "      <td>57.167368</td>\n",
       "      <td>01479 861271</td>\n",
       "      <td>\"Glenmore  Cairngorms PH22 1QU</td>\n",
       "    </tr>\n",
       "    <tr>\n",
       "      <th>6</th>\n",
       "      <td>-1.571802</td>\n",
       "      <td>50.829241</td>\n",
       "      <td>01590 622967</td>\n",
       "      <td>\"Hollands Wood  New Forest SO42 7QH</td>\n",
       "    </tr>\n",
       "    <tr>\n",
       "      <th>7</th>\n",
       "      <td>-1.705375</td>\n",
       "      <td>50.792885</td>\n",
       "      <td>01425 674502</td>\n",
       "      <td>\"Holmsley  New Forest BH23 8EB</td>\n",
       "    </tr>\n",
       "    <tr>\n",
       "      <th>8</th>\n",
       "      <td>-1.649765</td>\n",
       "      <td>50.914578</td>\n",
       "      <td>02380 812740</td>\n",
       "      <td>\"Longbeech  New Forest SO43 7HH</td>\n",
       "    </tr>\n",
       "    <tr>\n",
       "      <th>9</th>\n",
       "      <td>-1.534645</td>\n",
       "      <td>50.865636</td>\n",
       "      <td>02380 293144</td>\n",
       "      <td>\"Matley Wood  New Forest SO43 7FZ</td>\n",
       "    </tr>\n",
       "    <tr>\n",
       "      <th>10</th>\n",
       "      <td>-1.642030</td>\n",
       "      <td>50.906916</td>\n",
       "      <td>02380 812740</td>\n",
       "      <td>\"Ocknell  New Forest SO43 7HH</td>\n",
       "    </tr>\n",
       "    <tr>\n",
       "      <th>11</th>\n",
       "      <td>-1.717998</td>\n",
       "      <td>51.409720</td>\n",
       "      <td>01672 515195</td>\n",
       "      <td>\"Postern Hill  Wiltshire SN8 4ND</td>\n",
       "    </tr>\n",
       "    <tr>\n",
       "      <th>12</th>\n",
       "      <td>-1.534923</td>\n",
       "      <td>50.821148</td>\n",
       "      <td>01590 624344</td>\n",
       "      <td>\"Roundhill  New Forest SO42 7QL</td>\n",
       "    </tr>\n",
       "    <tr>\n",
       "      <th>13</th>\n",
       "      <td>-1.627532</td>\n",
       "      <td>50.802342</td>\n",
       "      <td>01590 681020</td>\n",
       "      <td>\"Setthorns  New Forest BH25 5WA</td>\n",
       "    </tr>\n",
       "  </tbody>\n",
       "</table>\n",
       "</div>"
      ],
      "text/plain": [
       "    Longitude   Latitude   PhoneNumber                                  Town\n",
       "0   -1.530129  50.889452  02380 292097         \"Ashurst  New Forest SO40 7AR\n",
       "1   -2.624735  51.812785  01594 837258  \"Bracelands  Forest of Dean GL16 7NP\n",
       "2   -4.581170  56.112450  01360 870234          \"Cashel  Loch Lomond G63 0AW\n",
       "3   -4.366124  56.158363  01877 382392         \"Cobleland  Trossachs FK8 3RR\n",
       "4   -1.526756  50.861170  02380 293144      \"Denny Wood  New Forest SO43 7FZ\n",
       "5   -3.694239  57.167368  01479 861271        \"Glenmore  Cairngorms PH22 1QU\n",
       "6   -1.571802  50.829241  01590 622967   \"Hollands Wood  New Forest SO42 7QH\n",
       "7   -1.705375  50.792885  01425 674502        \"Holmsley  New Forest BH23 8EB\n",
       "8   -1.649765  50.914578  02380 812740       \"Longbeech  New Forest SO43 7HH\n",
       "9   -1.534645  50.865636  02380 293144     \"Matley Wood  New Forest SO43 7FZ\n",
       "10  -1.642030  50.906916  02380 812740         \"Ocknell  New Forest SO43 7HH\n",
       "11  -1.717998  51.409720  01672 515195      \"Postern Hill  Wiltshire SN8 4ND\n",
       "12  -1.534923  50.821148  01590 624344       \"Roundhill  New Forest SO42 7QL\n",
       "13  -1.627532  50.802342  01590 681020       \"Setthorns  New Forest BH25 5WA"
      ]
     },
     "execution_count": 8,
     "metadata": {},
     "output_type": "execute_result"
    }
   ],
   "source": [
    "temp = df['Address'].apply(lambda x: pd.Series(str(x).split('>')))\n",
    "print(temp)  # check if data is okay, one line had less quotes in it for some reason!!\n",
    "\n",
    "df[\"PhoneNumber\"]= temp[1]\n",
    "df['PhoneNumber'] = df['PhoneNumber'].astype(str)\n",
    "\n",
    "# Remove extra quotes the camping club add to the end of each line!\n",
    "df['PhoneNumber'] = df.apply(lambda x: x['PhoneNumber'][:-2], axis=1)\n",
    "\n",
    "# making separate phone number column from new data frame \n",
    "#temp_address = temp[0].apply(lambda x: pd.Series(str(x).split(' - ')))\n",
    "#df[\"Town\"] = temp_address[0]\n",
    "#df[\"SiteName\"] = temp_address[1]\n",
    "\n",
    "#df[\"Town\"] = df.apply(lambda x: x['Town'][1:], axis=1)\n",
    "\n",
    "# Dropping old Address columns \n",
    "df.drop(columns =[\"Address\"], inplace = True) \n",
    "\n",
    "df "
   ]
  },
  {
   "cell_type": "markdown",
   "metadata": {},
   "source": [
    "### Now create kml file for use by maps.me\n",
    "\n",
    "### Once the .kml file has been created for maps.me will need to edit the file and change all instances of <styleUrl>#<number></styleUrl> with a valid maps.me styleUrl\n",
    "    \n",
    "<styleUrl>#placemark-blue</styleUrl>\n",
    "<styleUrl>#placemark-red</styleUrl>\n",
    "<styleUrl>#placemark-green</styleUrl>  \n",
    "<styleUrl>#placemark-yellow</styleUrl>\n",
    "<styleUrl>#placemark-brown</styleUrl>\n",
    "<styleUrl>#placemark-orange</styleUrl>\n",
    "<styleUrl>#placemark-pink</styleUrl>    \n",
    "<styleUrl>#placemark-purple</styleUrl> *"
   ]
  },
  {
   "cell_type": "code",
   "execution_count": 12,
   "metadata": {
    "ExecuteTime": {
     "end_time": "2021-06-04T11:32:13.518366Z",
     "start_time": "2021-06-04T11:32:13.411465Z"
    }
   },
   "outputs": [
    {
     "data": {
      "text/html": [
       "<div style=\"width:100%;\"><div style=\"position:relative;width:100%;height:0;padding-bottom:60%;\"><span style=\"color:#565656\">Make this Notebook Trusted to load map: File -> Trust Notebook</span><iframe src=\"about:blank\" style=\"position:absolute;width:100%;height:100%;left:0;top:0;border:none !important;\" data-html=%3C%21DOCTYPE%20html%3E%0A%3Chead%3E%20%20%20%20%0A%20%20%20%20%3Cmeta%20http-equiv%3D%22content-type%22%20content%3D%22text/html%3B%20charset%3DUTF-8%22%20/%3E%0A%20%20%20%20%0A%20%20%20%20%20%20%20%20%3Cscript%3E%0A%20%20%20%20%20%20%20%20%20%20%20%20L_NO_TOUCH%20%3D%20false%3B%0A%20%20%20%20%20%20%20%20%20%20%20%20L_DISABLE_3D%20%3D%20false%3B%0A%20%20%20%20%20%20%20%20%3C/script%3E%0A%20%20%20%20%0A%20%20%20%20%3Cstyle%3Ehtml%2C%20body%20%7Bwidth%3A%20100%25%3Bheight%3A%20100%25%3Bmargin%3A%200%3Bpadding%3A%200%3B%7D%3C/style%3E%0A%20%20%20%20%3Cstyle%3E%23map%20%7Bposition%3Aabsolute%3Btop%3A0%3Bbottom%3A0%3Bright%3A0%3Bleft%3A0%3B%7D%3C/style%3E%0A%20%20%20%20%3Cscript%20src%3D%22https%3A//cdn.jsdelivr.net/npm/leaflet%401.6.0/dist/leaflet.js%22%3E%3C/script%3E%0A%20%20%20%20%3Cscript%20src%3D%22https%3A//code.jquery.com/jquery-1.12.4.min.js%22%3E%3C/script%3E%0A%20%20%20%20%3Cscript%20src%3D%22https%3A//maxcdn.bootstrapcdn.com/bootstrap/3.2.0/js/bootstrap.min.js%22%3E%3C/script%3E%0A%20%20%20%20%3Cscript%20src%3D%22https%3A//cdnjs.cloudflare.com/ajax/libs/Leaflet.awesome-markers/2.0.2/leaflet.awesome-markers.js%22%3E%3C/script%3E%0A%20%20%20%20%3Clink%20rel%3D%22stylesheet%22%20href%3D%22https%3A//cdn.jsdelivr.net/npm/leaflet%401.6.0/dist/leaflet.css%22/%3E%0A%20%20%20%20%3Clink%20rel%3D%22stylesheet%22%20href%3D%22https%3A//maxcdn.bootstrapcdn.com/bootstrap/3.2.0/css/bootstrap.min.css%22/%3E%0A%20%20%20%20%3Clink%20rel%3D%22stylesheet%22%20href%3D%22https%3A//maxcdn.bootstrapcdn.com/bootstrap/3.2.0/css/bootstrap-theme.min.css%22/%3E%0A%20%20%20%20%3Clink%20rel%3D%22stylesheet%22%20href%3D%22https%3A//maxcdn.bootstrapcdn.com/font-awesome/4.6.3/css/font-awesome.min.css%22/%3E%0A%20%20%20%20%3Clink%20rel%3D%22stylesheet%22%20href%3D%22https%3A//cdnjs.cloudflare.com/ajax/libs/Leaflet.awesome-markers/2.0.2/leaflet.awesome-markers.css%22/%3E%0A%20%20%20%20%3Clink%20rel%3D%22stylesheet%22%20href%3D%22https%3A//cdn.jsdelivr.net/gh/python-visualization/folium/folium/templates/leaflet.awesome.rotate.min.css%22/%3E%0A%20%20%20%20%0A%20%20%20%20%20%20%20%20%20%20%20%20%3Cmeta%20name%3D%22viewport%22%20content%3D%22width%3Ddevice-width%2C%0A%20%20%20%20%20%20%20%20%20%20%20%20%20%20%20%20initial-scale%3D1.0%2C%20maximum-scale%3D1.0%2C%20user-scalable%3Dno%22%20/%3E%0A%20%20%20%20%20%20%20%20%20%20%20%20%3Cstyle%3E%0A%20%20%20%20%20%20%20%20%20%20%20%20%20%20%20%20%23map_ba8d2b85589b41ff899df3e4cd836b43%20%7B%0A%20%20%20%20%20%20%20%20%20%20%20%20%20%20%20%20%20%20%20%20position%3A%20relative%3B%0A%20%20%20%20%20%20%20%20%20%20%20%20%20%20%20%20%20%20%20%20width%3A%20100.0%25%3B%0A%20%20%20%20%20%20%20%20%20%20%20%20%20%20%20%20%20%20%20%20height%3A%20100.0%25%3B%0A%20%20%20%20%20%20%20%20%20%20%20%20%20%20%20%20%20%20%20%20left%3A%200.0%25%3B%0A%20%20%20%20%20%20%20%20%20%20%20%20%20%20%20%20%20%20%20%20top%3A%200.0%25%3B%0A%20%20%20%20%20%20%20%20%20%20%20%20%20%20%20%20%7D%0A%20%20%20%20%20%20%20%20%20%20%20%20%3C/style%3E%0A%20%20%20%20%20%20%20%20%0A%3C/head%3E%0A%3Cbody%3E%20%20%20%20%0A%20%20%20%20%0A%20%20%20%20%20%20%20%20%20%20%20%20%3Cdiv%20class%3D%22folium-map%22%20id%3D%22map_ba8d2b85589b41ff899df3e4cd836b43%22%20%3E%3C/div%3E%0A%20%20%20%20%20%20%20%20%0A%3C/body%3E%0A%3Cscript%3E%20%20%20%20%0A%20%20%20%20%0A%20%20%20%20%20%20%20%20%20%20%20%20var%20map_ba8d2b85589b41ff899df3e4cd836b43%20%3D%20L.map%28%0A%20%20%20%20%20%20%20%20%20%20%20%20%20%20%20%20%22map_ba8d2b85589b41ff899df3e4cd836b43%22%2C%0A%20%20%20%20%20%20%20%20%20%20%20%20%20%20%20%20%7B%0A%20%20%20%20%20%20%20%20%20%20%20%20%20%20%20%20%20%20%20%20center%3A%20%5B54.0%2C%20-1.0%5D%2C%0A%20%20%20%20%20%20%20%20%20%20%20%20%20%20%20%20%20%20%20%20crs%3A%20L.CRS.EPSG3857%2C%0A%20%20%20%20%20%20%20%20%20%20%20%20%20%20%20%20%20%20%20%20zoom%3A%206%2C%0A%20%20%20%20%20%20%20%20%20%20%20%20%20%20%20%20%20%20%20%20zoomControl%3A%20true%2C%0A%20%20%20%20%20%20%20%20%20%20%20%20%20%20%20%20%20%20%20%20preferCanvas%3A%20false%2C%0A%20%20%20%20%20%20%20%20%20%20%20%20%20%20%20%20%7D%0A%20%20%20%20%20%20%20%20%20%20%20%20%29%3B%0A%0A%20%20%20%20%20%20%20%20%20%20%20%20%0A%0A%20%20%20%20%20%20%20%20%0A%20%20%20%20%0A%20%20%20%20%20%20%20%20%20%20%20%20var%20tile_layer_1c6d733ba6bf41f8a178725f651ba279%20%3D%20L.tileLayer%28%0A%20%20%20%20%20%20%20%20%20%20%20%20%20%20%20%20%22https%3A//%7Bs%7D.tile.openstreetmap.org/%7Bz%7D/%7Bx%7D/%7By%7D.png%22%2C%0A%20%20%20%20%20%20%20%20%20%20%20%20%20%20%20%20%7B%22attribution%22%3A%20%22Data%20by%20%5Cu0026copy%3B%20%5Cu003ca%20href%3D%5C%22http%3A//openstreetmap.org%5C%22%5Cu003eOpenStreetMap%5Cu003c/a%5Cu003e%2C%20under%20%5Cu003ca%20href%3D%5C%22http%3A//www.openstreetmap.org/copyright%5C%22%5Cu003eODbL%5Cu003c/a%5Cu003e.%22%2C%20%22detectRetina%22%3A%20false%2C%20%22maxNativeZoom%22%3A%2018%2C%20%22maxZoom%22%3A%2018%2C%20%22minZoom%22%3A%200%2C%20%22noWrap%22%3A%20false%2C%20%22opacity%22%3A%201%2C%20%22subdomains%22%3A%20%22abc%22%2C%20%22tms%22%3A%20false%7D%0A%20%20%20%20%20%20%20%20%20%20%20%20%29.addTo%28map_ba8d2b85589b41ff899df3e4cd836b43%29%3B%0A%20%20%20%20%20%20%20%20%0A%20%20%20%20%0A%20%20%20%20%20%20%20%20%20%20%20%20var%20marker_489c7df282ee44b7a7949594759f3de1%20%3D%20L.marker%28%0A%20%20%20%20%20%20%20%20%20%20%20%20%20%20%20%20%5B50.889452%2C%20-1.530129%5D%2C%0A%20%20%20%20%20%20%20%20%20%20%20%20%20%20%20%20%7B%7D%0A%20%20%20%20%20%20%20%20%20%20%20%20%29.addTo%28map_ba8d2b85589b41ff899df3e4cd836b43%29%3B%0A%20%20%20%20%20%20%20%20%0A%20%20%20%20%0A%20%20%20%20%20%20%20%20%20%20%20%20var%20icon_4504b5af9f4f4a20ab60c7a80546954c%20%3D%20L.AwesomeMarkers.icon%28%0A%20%20%20%20%20%20%20%20%20%20%20%20%20%20%20%20%7B%22extraClasses%22%3A%20%22fa-rotate-0%22%2C%20%22icon%22%3A%20%22info-sign%22%2C%20%22iconColor%22%3A%20%22white%22%2C%20%22markerColor%22%3A%20%22pink%22%2C%20%22prefix%22%3A%20%22glyphicon%22%7D%0A%20%20%20%20%20%20%20%20%20%20%20%20%29%3B%0A%20%20%20%20%20%20%20%20%20%20%20%20marker_489c7df282ee44b7a7949594759f3de1.setIcon%28icon_4504b5af9f4f4a20ab60c7a80546954c%29%3B%0A%20%20%20%20%20%20%20%20%0A%20%20%20%20%0A%20%20%20%20%20%20%20%20var%20popup_23341e5cc2244921a1abbb27ac13baae%20%3D%20L.popup%28%7B%22maxWidth%22%3A%20300%7D%29%3B%0A%0A%20%20%20%20%20%20%20%20%0A%20%20%20%20%20%20%20%20%20%20%20%20var%20html_661cf5ffa93145bd93dafad12addf564%20%3D%20%24%28%60%3Cdiv%20id%3D%22html_661cf5ffa93145bd93dafad12addf564%22%20style%3D%22width%3A%20100.0%25%3B%20height%3A%20100.0%25%3B%22%3E%3Cp%3E%22Ashurst%20%20New%20Forest%20SO40%207AR%3C/p%3E%3Cp%3E%3C/p%3E%3Cp%3E02380%20292097%3C/p%3E%3C/div%3E%60%29%5B0%5D%3B%0A%20%20%20%20%20%20%20%20%20%20%20%20popup_23341e5cc2244921a1abbb27ac13baae.setContent%28html_661cf5ffa93145bd93dafad12addf564%29%3B%0A%20%20%20%20%20%20%20%20%0A%0A%20%20%20%20%20%20%20%20marker_489c7df282ee44b7a7949594759f3de1.bindPopup%28popup_23341e5cc2244921a1abbb27ac13baae%29%0A%20%20%20%20%20%20%20%20%3B%0A%0A%20%20%20%20%20%20%20%20%0A%20%20%20%20%0A%20%20%20%20%0A%20%20%20%20%20%20%20%20%20%20%20%20var%20marker_337c0a46a16d40d9ad96da952d0d1fc7%20%3D%20L.marker%28%0A%20%20%20%20%20%20%20%20%20%20%20%20%20%20%20%20%5B51.812785%2C%20-2.624735%5D%2C%0A%20%20%20%20%20%20%20%20%20%20%20%20%20%20%20%20%7B%7D%0A%20%20%20%20%20%20%20%20%20%20%20%20%29.addTo%28map_ba8d2b85589b41ff899df3e4cd836b43%29%3B%0A%20%20%20%20%20%20%20%20%0A%20%20%20%20%0A%20%20%20%20%20%20%20%20%20%20%20%20var%20icon_d49e3fe5df414f7ebc6ff76ced921352%20%3D%20L.AwesomeMarkers.icon%28%0A%20%20%20%20%20%20%20%20%20%20%20%20%20%20%20%20%7B%22extraClasses%22%3A%20%22fa-rotate-0%22%2C%20%22icon%22%3A%20%22info-sign%22%2C%20%22iconColor%22%3A%20%22white%22%2C%20%22markerColor%22%3A%20%22pink%22%2C%20%22prefix%22%3A%20%22glyphicon%22%7D%0A%20%20%20%20%20%20%20%20%20%20%20%20%29%3B%0A%20%20%20%20%20%20%20%20%20%20%20%20marker_337c0a46a16d40d9ad96da952d0d1fc7.setIcon%28icon_d49e3fe5df414f7ebc6ff76ced921352%29%3B%0A%20%20%20%20%20%20%20%20%0A%20%20%20%20%0A%20%20%20%20%20%20%20%20var%20popup_6b29df9f1f7a4eaeafd7d09097ec91ec%20%3D%20L.popup%28%7B%22maxWidth%22%3A%20300%7D%29%3B%0A%0A%20%20%20%20%20%20%20%20%0A%20%20%20%20%20%20%20%20%20%20%20%20var%20html_74eb7a7ec3ca47dba013da1ede339fdf%20%3D%20%24%28%60%3Cdiv%20id%3D%22html_74eb7a7ec3ca47dba013da1ede339fdf%22%20style%3D%22width%3A%20100.0%25%3B%20height%3A%20100.0%25%3B%22%3E%3Cp%3E%22Bracelands%20%20Forest%20of%20Dean%20GL16%207NP%3C/p%3E%3Cp%3E%3C/p%3E%3Cp%3E01594%20837258%3C/p%3E%3C/div%3E%60%29%5B0%5D%3B%0A%20%20%20%20%20%20%20%20%20%20%20%20popup_6b29df9f1f7a4eaeafd7d09097ec91ec.setContent%28html_74eb7a7ec3ca47dba013da1ede339fdf%29%3B%0A%20%20%20%20%20%20%20%20%0A%0A%20%20%20%20%20%20%20%20marker_337c0a46a16d40d9ad96da952d0d1fc7.bindPopup%28popup_6b29df9f1f7a4eaeafd7d09097ec91ec%29%0A%20%20%20%20%20%20%20%20%3B%0A%0A%20%20%20%20%20%20%20%20%0A%20%20%20%20%0A%20%20%20%20%0A%20%20%20%20%20%20%20%20%20%20%20%20var%20marker_4117fc30b8de4ab0957cde539d38e124%20%3D%20L.marker%28%0A%20%20%20%20%20%20%20%20%20%20%20%20%20%20%20%20%5B56.11245%2C%20-4.58117%5D%2C%0A%20%20%20%20%20%20%20%20%20%20%20%20%20%20%20%20%7B%7D%0A%20%20%20%20%20%20%20%20%20%20%20%20%29.addTo%28map_ba8d2b85589b41ff899df3e4cd836b43%29%3B%0A%20%20%20%20%20%20%20%20%0A%20%20%20%20%0A%20%20%20%20%20%20%20%20%20%20%20%20var%20icon_dd59ccba9ac54dd6abbdeea69a32b65d%20%3D%20L.AwesomeMarkers.icon%28%0A%20%20%20%20%20%20%20%20%20%20%20%20%20%20%20%20%7B%22extraClasses%22%3A%20%22fa-rotate-0%22%2C%20%22icon%22%3A%20%22info-sign%22%2C%20%22iconColor%22%3A%20%22white%22%2C%20%22markerColor%22%3A%20%22pink%22%2C%20%22prefix%22%3A%20%22glyphicon%22%7D%0A%20%20%20%20%20%20%20%20%20%20%20%20%29%3B%0A%20%20%20%20%20%20%20%20%20%20%20%20marker_4117fc30b8de4ab0957cde539d38e124.setIcon%28icon_dd59ccba9ac54dd6abbdeea69a32b65d%29%3B%0A%20%20%20%20%20%20%20%20%0A%20%20%20%20%0A%20%20%20%20%20%20%20%20var%20popup_c9d06fea277d411e995708733731f94b%20%3D%20L.popup%28%7B%22maxWidth%22%3A%20300%7D%29%3B%0A%0A%20%20%20%20%20%20%20%20%0A%20%20%20%20%20%20%20%20%20%20%20%20var%20html_a23719e672e04616b8a75765e56ac012%20%3D%20%24%28%60%3Cdiv%20id%3D%22html_a23719e672e04616b8a75765e56ac012%22%20style%3D%22width%3A%20100.0%25%3B%20height%3A%20100.0%25%3B%22%3E%3Cp%3E%22Cashel%20%20Loch%20Lomond%20G63%200AW%3C/p%3E%3Cp%3E%3C/p%3E%3Cp%3E01360%20870234%3C/p%3E%3C/div%3E%60%29%5B0%5D%3B%0A%20%20%20%20%20%20%20%20%20%20%20%20popup_c9d06fea277d411e995708733731f94b.setContent%28html_a23719e672e04616b8a75765e56ac012%29%3B%0A%20%20%20%20%20%20%20%20%0A%0A%20%20%20%20%20%20%20%20marker_4117fc30b8de4ab0957cde539d38e124.bindPopup%28popup_c9d06fea277d411e995708733731f94b%29%0A%20%20%20%20%20%20%20%20%3B%0A%0A%20%20%20%20%20%20%20%20%0A%20%20%20%20%0A%20%20%20%20%0A%20%20%20%20%20%20%20%20%20%20%20%20var%20marker_27a50debe2fe44109496db7886026b60%20%3D%20L.marker%28%0A%20%20%20%20%20%20%20%20%20%20%20%20%20%20%20%20%5B56.158363%2C%20-4.366124%5D%2C%0A%20%20%20%20%20%20%20%20%20%20%20%20%20%20%20%20%7B%7D%0A%20%20%20%20%20%20%20%20%20%20%20%20%29.addTo%28map_ba8d2b85589b41ff899df3e4cd836b43%29%3B%0A%20%20%20%20%20%20%20%20%0A%20%20%20%20%0A%20%20%20%20%20%20%20%20%20%20%20%20var%20icon_ef0a1f3f5de24559ba54712dbb26739d%20%3D%20L.AwesomeMarkers.icon%28%0A%20%20%20%20%20%20%20%20%20%20%20%20%20%20%20%20%7B%22extraClasses%22%3A%20%22fa-rotate-0%22%2C%20%22icon%22%3A%20%22info-sign%22%2C%20%22iconColor%22%3A%20%22white%22%2C%20%22markerColor%22%3A%20%22pink%22%2C%20%22prefix%22%3A%20%22glyphicon%22%7D%0A%20%20%20%20%20%20%20%20%20%20%20%20%29%3B%0A%20%20%20%20%20%20%20%20%20%20%20%20marker_27a50debe2fe44109496db7886026b60.setIcon%28icon_ef0a1f3f5de24559ba54712dbb26739d%29%3B%0A%20%20%20%20%20%20%20%20%0A%20%20%20%20%0A%20%20%20%20%20%20%20%20var%20popup_10db5e3cf2da495d83e06a2b7efb17ea%20%3D%20L.popup%28%7B%22maxWidth%22%3A%20300%7D%29%3B%0A%0A%20%20%20%20%20%20%20%20%0A%20%20%20%20%20%20%20%20%20%20%20%20var%20html_84e68205dddf43ef82b187a234f155d2%20%3D%20%24%28%60%3Cdiv%20id%3D%22html_84e68205dddf43ef82b187a234f155d2%22%20style%3D%22width%3A%20100.0%25%3B%20height%3A%20100.0%25%3B%22%3E%3Cp%3E%22Cobleland%20%20Trossachs%20FK8%203RR%3C/p%3E%3Cp%3E%3C/p%3E%3Cp%3E01877%20382392%3C/p%3E%3C/div%3E%60%29%5B0%5D%3B%0A%20%20%20%20%20%20%20%20%20%20%20%20popup_10db5e3cf2da495d83e06a2b7efb17ea.setContent%28html_84e68205dddf43ef82b187a234f155d2%29%3B%0A%20%20%20%20%20%20%20%20%0A%0A%20%20%20%20%20%20%20%20marker_27a50debe2fe44109496db7886026b60.bindPopup%28popup_10db5e3cf2da495d83e06a2b7efb17ea%29%0A%20%20%20%20%20%20%20%20%3B%0A%0A%20%20%20%20%20%20%20%20%0A%20%20%20%20%0A%20%20%20%20%0A%20%20%20%20%20%20%20%20%20%20%20%20var%20marker_6628404889054222980afb5dc72472ac%20%3D%20L.marker%28%0A%20%20%20%20%20%20%20%20%20%20%20%20%20%20%20%20%5B50.86117%2C%20-1.526756%5D%2C%0A%20%20%20%20%20%20%20%20%20%20%20%20%20%20%20%20%7B%7D%0A%20%20%20%20%20%20%20%20%20%20%20%20%29.addTo%28map_ba8d2b85589b41ff899df3e4cd836b43%29%3B%0A%20%20%20%20%20%20%20%20%0A%20%20%20%20%0A%20%20%20%20%20%20%20%20%20%20%20%20var%20icon_29b9c010025742e3bae74ad168aa6d6d%20%3D%20L.AwesomeMarkers.icon%28%0A%20%20%20%20%20%20%20%20%20%20%20%20%20%20%20%20%7B%22extraClasses%22%3A%20%22fa-rotate-0%22%2C%20%22icon%22%3A%20%22info-sign%22%2C%20%22iconColor%22%3A%20%22white%22%2C%20%22markerColor%22%3A%20%22pink%22%2C%20%22prefix%22%3A%20%22glyphicon%22%7D%0A%20%20%20%20%20%20%20%20%20%20%20%20%29%3B%0A%20%20%20%20%20%20%20%20%20%20%20%20marker_6628404889054222980afb5dc72472ac.setIcon%28icon_29b9c010025742e3bae74ad168aa6d6d%29%3B%0A%20%20%20%20%20%20%20%20%0A%20%20%20%20%0A%20%20%20%20%20%20%20%20var%20popup_83948da883424b4f884d845b232480d6%20%3D%20L.popup%28%7B%22maxWidth%22%3A%20300%7D%29%3B%0A%0A%20%20%20%20%20%20%20%20%0A%20%20%20%20%20%20%20%20%20%20%20%20var%20html_4de5d61f12304cd793ebaf2382275d68%20%3D%20%24%28%60%3Cdiv%20id%3D%22html_4de5d61f12304cd793ebaf2382275d68%22%20style%3D%22width%3A%20100.0%25%3B%20height%3A%20100.0%25%3B%22%3E%3Cp%3E%22Denny%20Wood%20%20New%20Forest%20SO43%207FZ%3C/p%3E%3Cp%3E%3C/p%3E%3Cp%3E02380%20293144%3C/p%3E%3C/div%3E%60%29%5B0%5D%3B%0A%20%20%20%20%20%20%20%20%20%20%20%20popup_83948da883424b4f884d845b232480d6.setContent%28html_4de5d61f12304cd793ebaf2382275d68%29%3B%0A%20%20%20%20%20%20%20%20%0A%0A%20%20%20%20%20%20%20%20marker_6628404889054222980afb5dc72472ac.bindPopup%28popup_83948da883424b4f884d845b232480d6%29%0A%20%20%20%20%20%20%20%20%3B%0A%0A%20%20%20%20%20%20%20%20%0A%20%20%20%20%0A%20%20%20%20%0A%20%20%20%20%20%20%20%20%20%20%20%20var%20marker_acdfb1bf2f844340b7fbc90e375861bb%20%3D%20L.marker%28%0A%20%20%20%20%20%20%20%20%20%20%20%20%20%20%20%20%5B57.167368%2C%20-3.694239%5D%2C%0A%20%20%20%20%20%20%20%20%20%20%20%20%20%20%20%20%7B%7D%0A%20%20%20%20%20%20%20%20%20%20%20%20%29.addTo%28map_ba8d2b85589b41ff899df3e4cd836b43%29%3B%0A%20%20%20%20%20%20%20%20%0A%20%20%20%20%0A%20%20%20%20%20%20%20%20%20%20%20%20var%20icon_fcda66ee153d471d8f83826294fdbb9d%20%3D%20L.AwesomeMarkers.icon%28%0A%20%20%20%20%20%20%20%20%20%20%20%20%20%20%20%20%7B%22extraClasses%22%3A%20%22fa-rotate-0%22%2C%20%22icon%22%3A%20%22info-sign%22%2C%20%22iconColor%22%3A%20%22white%22%2C%20%22markerColor%22%3A%20%22pink%22%2C%20%22prefix%22%3A%20%22glyphicon%22%7D%0A%20%20%20%20%20%20%20%20%20%20%20%20%29%3B%0A%20%20%20%20%20%20%20%20%20%20%20%20marker_acdfb1bf2f844340b7fbc90e375861bb.setIcon%28icon_fcda66ee153d471d8f83826294fdbb9d%29%3B%0A%20%20%20%20%20%20%20%20%0A%20%20%20%20%0A%20%20%20%20%20%20%20%20var%20popup_edeab5ba6862430f8f451ca74079f4c9%20%3D%20L.popup%28%7B%22maxWidth%22%3A%20300%7D%29%3B%0A%0A%20%20%20%20%20%20%20%20%0A%20%20%20%20%20%20%20%20%20%20%20%20var%20html_8ba687e9125347bba1897dfaaa0c1f7c%20%3D%20%24%28%60%3Cdiv%20id%3D%22html_8ba687e9125347bba1897dfaaa0c1f7c%22%20style%3D%22width%3A%20100.0%25%3B%20height%3A%20100.0%25%3B%22%3E%3Cp%3E%22Glenmore%20%20Cairngorms%20PH22%201QU%3C/p%3E%3Cp%3E%3C/p%3E%3Cp%3E01479%20861271%3C/p%3E%3C/div%3E%60%29%5B0%5D%3B%0A%20%20%20%20%20%20%20%20%20%20%20%20popup_edeab5ba6862430f8f451ca74079f4c9.setContent%28html_8ba687e9125347bba1897dfaaa0c1f7c%29%3B%0A%20%20%20%20%20%20%20%20%0A%0A%20%20%20%20%20%20%20%20marker_acdfb1bf2f844340b7fbc90e375861bb.bindPopup%28popup_edeab5ba6862430f8f451ca74079f4c9%29%0A%20%20%20%20%20%20%20%20%3B%0A%0A%20%20%20%20%20%20%20%20%0A%20%20%20%20%0A%20%20%20%20%0A%20%20%20%20%20%20%20%20%20%20%20%20var%20marker_8f9d74a7c81343978246097bd224c500%20%3D%20L.marker%28%0A%20%20%20%20%20%20%20%20%20%20%20%20%20%20%20%20%5B50.829241%2C%20-1.571802%5D%2C%0A%20%20%20%20%20%20%20%20%20%20%20%20%20%20%20%20%7B%7D%0A%20%20%20%20%20%20%20%20%20%20%20%20%29.addTo%28map_ba8d2b85589b41ff899df3e4cd836b43%29%3B%0A%20%20%20%20%20%20%20%20%0A%20%20%20%20%0A%20%20%20%20%20%20%20%20%20%20%20%20var%20icon_4b3d3a0115ae48d5bfa48bd15d2cd05b%20%3D%20L.AwesomeMarkers.icon%28%0A%20%20%20%20%20%20%20%20%20%20%20%20%20%20%20%20%7B%22extraClasses%22%3A%20%22fa-rotate-0%22%2C%20%22icon%22%3A%20%22info-sign%22%2C%20%22iconColor%22%3A%20%22white%22%2C%20%22markerColor%22%3A%20%22pink%22%2C%20%22prefix%22%3A%20%22glyphicon%22%7D%0A%20%20%20%20%20%20%20%20%20%20%20%20%29%3B%0A%20%20%20%20%20%20%20%20%20%20%20%20marker_8f9d74a7c81343978246097bd224c500.setIcon%28icon_4b3d3a0115ae48d5bfa48bd15d2cd05b%29%3B%0A%20%20%20%20%20%20%20%20%0A%20%20%20%20%0A%20%20%20%20%20%20%20%20var%20popup_f57c527c67b74963a7a25031c04bc011%20%3D%20L.popup%28%7B%22maxWidth%22%3A%20300%7D%29%3B%0A%0A%20%20%20%20%20%20%20%20%0A%20%20%20%20%20%20%20%20%20%20%20%20var%20html_fdb0e2db633049d48030481d4b7fa67f%20%3D%20%24%28%60%3Cdiv%20id%3D%22html_fdb0e2db633049d48030481d4b7fa67f%22%20style%3D%22width%3A%20100.0%25%3B%20height%3A%20100.0%25%3B%22%3E%3Cp%3E%22Hollands%20Wood%20%20New%20Forest%20SO42%207QH%3C/p%3E%3Cp%3E%3C/p%3E%3Cp%3E01590%20622967%3C/p%3E%3C/div%3E%60%29%5B0%5D%3B%0A%20%20%20%20%20%20%20%20%20%20%20%20popup_f57c527c67b74963a7a25031c04bc011.setContent%28html_fdb0e2db633049d48030481d4b7fa67f%29%3B%0A%20%20%20%20%20%20%20%20%0A%0A%20%20%20%20%20%20%20%20marker_8f9d74a7c81343978246097bd224c500.bindPopup%28popup_f57c527c67b74963a7a25031c04bc011%29%0A%20%20%20%20%20%20%20%20%3B%0A%0A%20%20%20%20%20%20%20%20%0A%20%20%20%20%0A%20%20%20%20%0A%20%20%20%20%20%20%20%20%20%20%20%20var%20marker_fbd05ec97c9740f18932897371cb13c0%20%3D%20L.marker%28%0A%20%20%20%20%20%20%20%20%20%20%20%20%20%20%20%20%5B50.792885%2C%20-1.705375%5D%2C%0A%20%20%20%20%20%20%20%20%20%20%20%20%20%20%20%20%7B%7D%0A%20%20%20%20%20%20%20%20%20%20%20%20%29.addTo%28map_ba8d2b85589b41ff899df3e4cd836b43%29%3B%0A%20%20%20%20%20%20%20%20%0A%20%20%20%20%0A%20%20%20%20%20%20%20%20%20%20%20%20var%20icon_6a312d2cda6e4af181807d71596fde16%20%3D%20L.AwesomeMarkers.icon%28%0A%20%20%20%20%20%20%20%20%20%20%20%20%20%20%20%20%7B%22extraClasses%22%3A%20%22fa-rotate-0%22%2C%20%22icon%22%3A%20%22info-sign%22%2C%20%22iconColor%22%3A%20%22white%22%2C%20%22markerColor%22%3A%20%22pink%22%2C%20%22prefix%22%3A%20%22glyphicon%22%7D%0A%20%20%20%20%20%20%20%20%20%20%20%20%29%3B%0A%20%20%20%20%20%20%20%20%20%20%20%20marker_fbd05ec97c9740f18932897371cb13c0.setIcon%28icon_6a312d2cda6e4af181807d71596fde16%29%3B%0A%20%20%20%20%20%20%20%20%0A%20%20%20%20%0A%20%20%20%20%20%20%20%20var%20popup_da6f3489786244e6a20fc18c0ce36312%20%3D%20L.popup%28%7B%22maxWidth%22%3A%20300%7D%29%3B%0A%0A%20%20%20%20%20%20%20%20%0A%20%20%20%20%20%20%20%20%20%20%20%20var%20html_def7db8e45974d5188ea17a58b0fbfcd%20%3D%20%24%28%60%3Cdiv%20id%3D%22html_def7db8e45974d5188ea17a58b0fbfcd%22%20style%3D%22width%3A%20100.0%25%3B%20height%3A%20100.0%25%3B%22%3E%3Cp%3E%22Holmsley%20%20New%20Forest%20BH23%208EB%3C/p%3E%3Cp%3E%3C/p%3E%3Cp%3E01425%20674502%3C/p%3E%3C/div%3E%60%29%5B0%5D%3B%0A%20%20%20%20%20%20%20%20%20%20%20%20popup_da6f3489786244e6a20fc18c0ce36312.setContent%28html_def7db8e45974d5188ea17a58b0fbfcd%29%3B%0A%20%20%20%20%20%20%20%20%0A%0A%20%20%20%20%20%20%20%20marker_fbd05ec97c9740f18932897371cb13c0.bindPopup%28popup_da6f3489786244e6a20fc18c0ce36312%29%0A%20%20%20%20%20%20%20%20%3B%0A%0A%20%20%20%20%20%20%20%20%0A%20%20%20%20%0A%20%20%20%20%0A%20%20%20%20%20%20%20%20%20%20%20%20var%20marker_061beb2acf6d4eceafbe2551269522d9%20%3D%20L.marker%28%0A%20%20%20%20%20%20%20%20%20%20%20%20%20%20%20%20%5B50.914578%2C%20-1.649765%5D%2C%0A%20%20%20%20%20%20%20%20%20%20%20%20%20%20%20%20%7B%7D%0A%20%20%20%20%20%20%20%20%20%20%20%20%29.addTo%28map_ba8d2b85589b41ff899df3e4cd836b43%29%3B%0A%20%20%20%20%20%20%20%20%0A%20%20%20%20%0A%20%20%20%20%20%20%20%20%20%20%20%20var%20icon_1cb4584b00f94520ab5260e38c6775a5%20%3D%20L.AwesomeMarkers.icon%28%0A%20%20%20%20%20%20%20%20%20%20%20%20%20%20%20%20%7B%22extraClasses%22%3A%20%22fa-rotate-0%22%2C%20%22icon%22%3A%20%22info-sign%22%2C%20%22iconColor%22%3A%20%22white%22%2C%20%22markerColor%22%3A%20%22pink%22%2C%20%22prefix%22%3A%20%22glyphicon%22%7D%0A%20%20%20%20%20%20%20%20%20%20%20%20%29%3B%0A%20%20%20%20%20%20%20%20%20%20%20%20marker_061beb2acf6d4eceafbe2551269522d9.setIcon%28icon_1cb4584b00f94520ab5260e38c6775a5%29%3B%0A%20%20%20%20%20%20%20%20%0A%20%20%20%20%0A%20%20%20%20%20%20%20%20var%20popup_5c5f2a821478423b87a1f475d3db1b73%20%3D%20L.popup%28%7B%22maxWidth%22%3A%20300%7D%29%3B%0A%0A%20%20%20%20%20%20%20%20%0A%20%20%20%20%20%20%20%20%20%20%20%20var%20html_817596510b8e4673bda0b1618cd5b974%20%3D%20%24%28%60%3Cdiv%20id%3D%22html_817596510b8e4673bda0b1618cd5b974%22%20style%3D%22width%3A%20100.0%25%3B%20height%3A%20100.0%25%3B%22%3E%3Cp%3E%22Longbeech%20%20New%20Forest%20SO43%207HH%3C/p%3E%3Cp%3E%3C/p%3E%3Cp%3E02380%20812740%3C/p%3E%3C/div%3E%60%29%5B0%5D%3B%0A%20%20%20%20%20%20%20%20%20%20%20%20popup_5c5f2a821478423b87a1f475d3db1b73.setContent%28html_817596510b8e4673bda0b1618cd5b974%29%3B%0A%20%20%20%20%20%20%20%20%0A%0A%20%20%20%20%20%20%20%20marker_061beb2acf6d4eceafbe2551269522d9.bindPopup%28popup_5c5f2a821478423b87a1f475d3db1b73%29%0A%20%20%20%20%20%20%20%20%3B%0A%0A%20%20%20%20%20%20%20%20%0A%20%20%20%20%0A%20%20%20%20%0A%20%20%20%20%20%20%20%20%20%20%20%20var%20marker_80fb7baf78574559a92c978c13a2ba70%20%3D%20L.marker%28%0A%20%20%20%20%20%20%20%20%20%20%20%20%20%20%20%20%5B50.865636%2C%20-1.534645%5D%2C%0A%20%20%20%20%20%20%20%20%20%20%20%20%20%20%20%20%7B%7D%0A%20%20%20%20%20%20%20%20%20%20%20%20%29.addTo%28map_ba8d2b85589b41ff899df3e4cd836b43%29%3B%0A%20%20%20%20%20%20%20%20%0A%20%20%20%20%0A%20%20%20%20%20%20%20%20%20%20%20%20var%20icon_eb96388d87c64b72bcc58513bf260a3f%20%3D%20L.AwesomeMarkers.icon%28%0A%20%20%20%20%20%20%20%20%20%20%20%20%20%20%20%20%7B%22extraClasses%22%3A%20%22fa-rotate-0%22%2C%20%22icon%22%3A%20%22info-sign%22%2C%20%22iconColor%22%3A%20%22white%22%2C%20%22markerColor%22%3A%20%22pink%22%2C%20%22prefix%22%3A%20%22glyphicon%22%7D%0A%20%20%20%20%20%20%20%20%20%20%20%20%29%3B%0A%20%20%20%20%20%20%20%20%20%20%20%20marker_80fb7baf78574559a92c978c13a2ba70.setIcon%28icon_eb96388d87c64b72bcc58513bf260a3f%29%3B%0A%20%20%20%20%20%20%20%20%0A%20%20%20%20%0A%20%20%20%20%20%20%20%20var%20popup_ef892f1f35564f648937481c3fe77741%20%3D%20L.popup%28%7B%22maxWidth%22%3A%20300%7D%29%3B%0A%0A%20%20%20%20%20%20%20%20%0A%20%20%20%20%20%20%20%20%20%20%20%20var%20html_3f172d949ef64f038662232ff8ccd63d%20%3D%20%24%28%60%3Cdiv%20id%3D%22html_3f172d949ef64f038662232ff8ccd63d%22%20style%3D%22width%3A%20100.0%25%3B%20height%3A%20100.0%25%3B%22%3E%3Cp%3E%22Matley%20Wood%20%20New%20Forest%20SO43%207FZ%3C/p%3E%3Cp%3E%3C/p%3E%3Cp%3E02380%20293144%3C/p%3E%3C/div%3E%60%29%5B0%5D%3B%0A%20%20%20%20%20%20%20%20%20%20%20%20popup_ef892f1f35564f648937481c3fe77741.setContent%28html_3f172d949ef64f038662232ff8ccd63d%29%3B%0A%20%20%20%20%20%20%20%20%0A%0A%20%20%20%20%20%20%20%20marker_80fb7baf78574559a92c978c13a2ba70.bindPopup%28popup_ef892f1f35564f648937481c3fe77741%29%0A%20%20%20%20%20%20%20%20%3B%0A%0A%20%20%20%20%20%20%20%20%0A%20%20%20%20%0A%20%20%20%20%0A%20%20%20%20%20%20%20%20%20%20%20%20var%20marker_ca88601fa6174590840c0f543fa5d226%20%3D%20L.marker%28%0A%20%20%20%20%20%20%20%20%20%20%20%20%20%20%20%20%5B50.906916%2C%20-1.64203%5D%2C%0A%20%20%20%20%20%20%20%20%20%20%20%20%20%20%20%20%7B%7D%0A%20%20%20%20%20%20%20%20%20%20%20%20%29.addTo%28map_ba8d2b85589b41ff899df3e4cd836b43%29%3B%0A%20%20%20%20%20%20%20%20%0A%20%20%20%20%0A%20%20%20%20%20%20%20%20%20%20%20%20var%20icon_16cad5d06e2f4fb4829d70ab5a5c97bd%20%3D%20L.AwesomeMarkers.icon%28%0A%20%20%20%20%20%20%20%20%20%20%20%20%20%20%20%20%7B%22extraClasses%22%3A%20%22fa-rotate-0%22%2C%20%22icon%22%3A%20%22info-sign%22%2C%20%22iconColor%22%3A%20%22white%22%2C%20%22markerColor%22%3A%20%22pink%22%2C%20%22prefix%22%3A%20%22glyphicon%22%7D%0A%20%20%20%20%20%20%20%20%20%20%20%20%29%3B%0A%20%20%20%20%20%20%20%20%20%20%20%20marker_ca88601fa6174590840c0f543fa5d226.setIcon%28icon_16cad5d06e2f4fb4829d70ab5a5c97bd%29%3B%0A%20%20%20%20%20%20%20%20%0A%20%20%20%20%0A%20%20%20%20%20%20%20%20var%20popup_d3b3b408ce0a412482f16070979a7e60%20%3D%20L.popup%28%7B%22maxWidth%22%3A%20300%7D%29%3B%0A%0A%20%20%20%20%20%20%20%20%0A%20%20%20%20%20%20%20%20%20%20%20%20var%20html_b072871038f14a158efbbdc39d20cbb3%20%3D%20%24%28%60%3Cdiv%20id%3D%22html_b072871038f14a158efbbdc39d20cbb3%22%20style%3D%22width%3A%20100.0%25%3B%20height%3A%20100.0%25%3B%22%3E%3Cp%3E%22Ocknell%20%20New%20Forest%20SO43%207HH%3C/p%3E%3Cp%3E%3C/p%3E%3Cp%3E02380%20812740%3C/p%3E%3C/div%3E%60%29%5B0%5D%3B%0A%20%20%20%20%20%20%20%20%20%20%20%20popup_d3b3b408ce0a412482f16070979a7e60.setContent%28html_b072871038f14a158efbbdc39d20cbb3%29%3B%0A%20%20%20%20%20%20%20%20%0A%0A%20%20%20%20%20%20%20%20marker_ca88601fa6174590840c0f543fa5d226.bindPopup%28popup_d3b3b408ce0a412482f16070979a7e60%29%0A%20%20%20%20%20%20%20%20%3B%0A%0A%20%20%20%20%20%20%20%20%0A%20%20%20%20%0A%20%20%20%20%0A%20%20%20%20%20%20%20%20%20%20%20%20var%20marker_7448f630a73b4b8f8a855f8e94a8b4a0%20%3D%20L.marker%28%0A%20%20%20%20%20%20%20%20%20%20%20%20%20%20%20%20%5B51.40972%2C%20-1.717998%5D%2C%0A%20%20%20%20%20%20%20%20%20%20%20%20%20%20%20%20%7B%7D%0A%20%20%20%20%20%20%20%20%20%20%20%20%29.addTo%28map_ba8d2b85589b41ff899df3e4cd836b43%29%3B%0A%20%20%20%20%20%20%20%20%0A%20%20%20%20%0A%20%20%20%20%20%20%20%20%20%20%20%20var%20icon_3ae556b5c8cc4022b3bab15ecbe75aae%20%3D%20L.AwesomeMarkers.icon%28%0A%20%20%20%20%20%20%20%20%20%20%20%20%20%20%20%20%7B%22extraClasses%22%3A%20%22fa-rotate-0%22%2C%20%22icon%22%3A%20%22info-sign%22%2C%20%22iconColor%22%3A%20%22white%22%2C%20%22markerColor%22%3A%20%22pink%22%2C%20%22prefix%22%3A%20%22glyphicon%22%7D%0A%20%20%20%20%20%20%20%20%20%20%20%20%29%3B%0A%20%20%20%20%20%20%20%20%20%20%20%20marker_7448f630a73b4b8f8a855f8e94a8b4a0.setIcon%28icon_3ae556b5c8cc4022b3bab15ecbe75aae%29%3B%0A%20%20%20%20%20%20%20%20%0A%20%20%20%20%0A%20%20%20%20%20%20%20%20var%20popup_647f8f99e93b4c9db45ca4498b2e77b0%20%3D%20L.popup%28%7B%22maxWidth%22%3A%20300%7D%29%3B%0A%0A%20%20%20%20%20%20%20%20%0A%20%20%20%20%20%20%20%20%20%20%20%20var%20html_e159dd2e4d4e4193b898c275c5eadc8c%20%3D%20%24%28%60%3Cdiv%20id%3D%22html_e159dd2e4d4e4193b898c275c5eadc8c%22%20style%3D%22width%3A%20100.0%25%3B%20height%3A%20100.0%25%3B%22%3E%3Cp%3E%22Postern%20Hill%20%20Wiltshire%20SN8%204ND%3C/p%3E%3Cp%3E%3C/p%3E%3Cp%3E01672%20515195%3C/p%3E%3C/div%3E%60%29%5B0%5D%3B%0A%20%20%20%20%20%20%20%20%20%20%20%20popup_647f8f99e93b4c9db45ca4498b2e77b0.setContent%28html_e159dd2e4d4e4193b898c275c5eadc8c%29%3B%0A%20%20%20%20%20%20%20%20%0A%0A%20%20%20%20%20%20%20%20marker_7448f630a73b4b8f8a855f8e94a8b4a0.bindPopup%28popup_647f8f99e93b4c9db45ca4498b2e77b0%29%0A%20%20%20%20%20%20%20%20%3B%0A%0A%20%20%20%20%20%20%20%20%0A%20%20%20%20%0A%20%20%20%20%0A%20%20%20%20%20%20%20%20%20%20%20%20var%20marker_a4bf4089a233401aa04cf011efd65c98%20%3D%20L.marker%28%0A%20%20%20%20%20%20%20%20%20%20%20%20%20%20%20%20%5B50.82114833%2C%20-1.534923333%5D%2C%0A%20%20%20%20%20%20%20%20%20%20%20%20%20%20%20%20%7B%7D%0A%20%20%20%20%20%20%20%20%20%20%20%20%29.addTo%28map_ba8d2b85589b41ff899df3e4cd836b43%29%3B%0A%20%20%20%20%20%20%20%20%0A%20%20%20%20%0A%20%20%20%20%20%20%20%20%20%20%20%20var%20icon_404ec05e5d874b619ff3ac601f8f07cd%20%3D%20L.AwesomeMarkers.icon%28%0A%20%20%20%20%20%20%20%20%20%20%20%20%20%20%20%20%7B%22extraClasses%22%3A%20%22fa-rotate-0%22%2C%20%22icon%22%3A%20%22info-sign%22%2C%20%22iconColor%22%3A%20%22white%22%2C%20%22markerColor%22%3A%20%22pink%22%2C%20%22prefix%22%3A%20%22glyphicon%22%7D%0A%20%20%20%20%20%20%20%20%20%20%20%20%29%3B%0A%20%20%20%20%20%20%20%20%20%20%20%20marker_a4bf4089a233401aa04cf011efd65c98.setIcon%28icon_404ec05e5d874b619ff3ac601f8f07cd%29%3B%0A%20%20%20%20%20%20%20%20%0A%20%20%20%20%0A%20%20%20%20%20%20%20%20var%20popup_4a15c9a67b834522a8bdcdaaafe80ba2%20%3D%20L.popup%28%7B%22maxWidth%22%3A%20300%7D%29%3B%0A%0A%20%20%20%20%20%20%20%20%0A%20%20%20%20%20%20%20%20%20%20%20%20var%20html_b2a1b7b7fefb4ef48353f8b7fcf65a14%20%3D%20%24%28%60%3Cdiv%20id%3D%22html_b2a1b7b7fefb4ef48353f8b7fcf65a14%22%20style%3D%22width%3A%20100.0%25%3B%20height%3A%20100.0%25%3B%22%3E%3Cp%3E%22Roundhill%20%20New%20Forest%20SO42%207QL%3C/p%3E%3Cp%3E%3C/p%3E%3Cp%3E01590%20624344%3C/p%3E%3C/div%3E%60%29%5B0%5D%3B%0A%20%20%20%20%20%20%20%20%20%20%20%20popup_4a15c9a67b834522a8bdcdaaafe80ba2.setContent%28html_b2a1b7b7fefb4ef48353f8b7fcf65a14%29%3B%0A%20%20%20%20%20%20%20%20%0A%0A%20%20%20%20%20%20%20%20marker_a4bf4089a233401aa04cf011efd65c98.bindPopup%28popup_4a15c9a67b834522a8bdcdaaafe80ba2%29%0A%20%20%20%20%20%20%20%20%3B%0A%0A%20%20%20%20%20%20%20%20%0A%20%20%20%20%0A%20%20%20%20%0A%20%20%20%20%20%20%20%20%20%20%20%20var%20marker_e61a669e724a40f4b31fe4a104fb12ae%20%3D%20L.marker%28%0A%20%20%20%20%20%20%20%20%20%20%20%20%20%20%20%20%5B50.80234167%2C%20-1.627531667%5D%2C%0A%20%20%20%20%20%20%20%20%20%20%20%20%20%20%20%20%7B%7D%0A%20%20%20%20%20%20%20%20%20%20%20%20%29.addTo%28map_ba8d2b85589b41ff899df3e4cd836b43%29%3B%0A%20%20%20%20%20%20%20%20%0A%20%20%20%20%0A%20%20%20%20%20%20%20%20%20%20%20%20var%20icon_45dfb6e70551418f8a8c05dc7fe396d6%20%3D%20L.AwesomeMarkers.icon%28%0A%20%20%20%20%20%20%20%20%20%20%20%20%20%20%20%20%7B%22extraClasses%22%3A%20%22fa-rotate-0%22%2C%20%22icon%22%3A%20%22info-sign%22%2C%20%22iconColor%22%3A%20%22white%22%2C%20%22markerColor%22%3A%20%22pink%22%2C%20%22prefix%22%3A%20%22glyphicon%22%7D%0A%20%20%20%20%20%20%20%20%20%20%20%20%29%3B%0A%20%20%20%20%20%20%20%20%20%20%20%20marker_e61a669e724a40f4b31fe4a104fb12ae.setIcon%28icon_45dfb6e70551418f8a8c05dc7fe396d6%29%3B%0A%20%20%20%20%20%20%20%20%0A%20%20%20%20%0A%20%20%20%20%20%20%20%20var%20popup_c669824bcc764a45bc421e999f851706%20%3D%20L.popup%28%7B%22maxWidth%22%3A%20300%7D%29%3B%0A%0A%20%20%20%20%20%20%20%20%0A%20%20%20%20%20%20%20%20%20%20%20%20var%20html_f3167a7e12474e7fb5274a7dabf6da10%20%3D%20%24%28%60%3Cdiv%20id%3D%22html_f3167a7e12474e7fb5274a7dabf6da10%22%20style%3D%22width%3A%20100.0%25%3B%20height%3A%20100.0%25%3B%22%3E%3Cp%3E%22Setthorns%20%20New%20Forest%20BH25%205WA%3C/p%3E%3Cp%3E%3C/p%3E%3Cp%3E01590%20681020%3C/p%3E%3C/div%3E%60%29%5B0%5D%3B%0A%20%20%20%20%20%20%20%20%20%20%20%20popup_c669824bcc764a45bc421e999f851706.setContent%28html_f3167a7e12474e7fb5274a7dabf6da10%29%3B%0A%20%20%20%20%20%20%20%20%0A%0A%20%20%20%20%20%20%20%20marker_e61a669e724a40f4b31fe4a104fb12ae.bindPopup%28popup_c669824bcc764a45bc421e999f851706%29%0A%20%20%20%20%20%20%20%20%3B%0A%0A%20%20%20%20%20%20%20%20%0A%20%20%20%20%0A%3C/script%3E onload=\"this.contentDocument.open();this.contentDocument.write(    decodeURIComponent(this.getAttribute('data-html')));this.contentDocument.close();\" allowfullscreen webkitallowfullscreen mozallowfullscreen></iframe></div></div>"
      ],
      "text/plain": [
       "<folium.folium.Map at 0x7f96452d4100>"
      ]
     },
     "execution_count": 12,
     "metadata": {},
     "output_type": "execute_result"
    }
   ],
   "source": [
    "kml = simplekml.Kml()\n",
    "style = simplekml.Style()\n",
    "style.iconstyle.icon.href = 'http://maps.google.com/mapfiles/kml/paddle/pink-blank.png'\n",
    "style.iconstyle.scale = 1\n",
    "\n",
    "map = folium.Map(location=[54.0, -1.0], zoom_start=6)\n",
    "for index, row in df.iterrows():\n",
    "    #name = row['SiteName'] + ', ' + row['SiteAddress'] + ', ' + row['PhoneNumber']\n",
    "    #name = row['SiteName']\n",
    "    #address = row['Town'] + ', ' + row['SiteName'] + ', ' + row['PhoneNumber']\n",
    "    name = row['Town'] \n",
    "    address = row['Town'] + ', ' + row['PhoneNumber']\n",
    "    phonenumber = row['PhoneNumber']\n",
    "    coords = [(row['Longitude'], row['Latitude'])]\n",
    "    pnt = kml.newpoint(name=name)\n",
    "    pnt.coords = coords\n",
    "    pnt.style = style\n",
    "    pnt.phonenumber = phonenumber\n",
    "    pnt.description = address\n",
    "    \n",
    "    popupText = folium.Html('<p>'+row['Town']+'</p><p>'+'</p><p>'+row['PhoneNumber']+'</p>', script=True)\n",
    "    #popupText = folium.Html('<p>'+row['SiteName']+'</p><p>'+row['SiteAddress']+'</p>', script=True)\n",
    "    popup = folium.Popup(popupText, max_width=300)\n",
    "    folium.Marker([row['Latitude'], row['Longitude']],\n",
    "                 popup=popup,\n",
    "                 icon=folium.Icon(color='pink', icon='info-sign')).add_to(map)\n",
    "    \n",
    "kml.save(path=\"poi/ccc-forest-2021.kml\")\n",
    "map.save(\"poi/ccc-forest-2021.html\")\n",
    "map"
   ]
  },
  {
   "cell_type": "code",
   "execution_count": 46,
   "metadata": {
    "ExecuteTime": {
     "end_time": "2020-06-24T11:31:24.384761Z",
     "start_time": "2020-06-24T11:31:24.382350Z"
    }
   },
   "outputs": [],
   "source": [
    "#!pip list"
   ]
  },
  {
   "cell_type": "code",
   "execution_count": null,
   "metadata": {},
   "outputs": [],
   "source": []
  }
 ],
 "metadata": {
  "kernelspec": {
   "display_name": "Python 3",
   "language": "python",
   "name": "python3"
  },
  "language_info": {
   "codemirror_mode": {
    "name": "ipython",
    "version": 3
   },
   "file_extension": ".py",
   "mimetype": "text/x-python",
   "name": "python",
   "nbconvert_exporter": "python",
   "pygments_lexer": "ipython3",
   "version": "3.9.2"
  },
  "toc": {
   "base_numbering": 1,
   "nav_menu": {},
   "number_sections": true,
   "sideBar": true,
   "skip_h1_title": false,
   "title_cell": "Table of Contents",
   "title_sidebar": "Contents",
   "toc_cell": false,
   "toc_position": {},
   "toc_section_display": true,
   "toc_window_display": false
  }
 },
 "nbformat": 4,
 "nbformat_minor": 4
}
