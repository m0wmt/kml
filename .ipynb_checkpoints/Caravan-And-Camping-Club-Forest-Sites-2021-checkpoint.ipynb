{
 "cells": [
  {
   "cell_type": "markdown",
   "metadata": {},
   "source": [
    "# Caravan and Camping Club POI Generator 2021"
   ]
  },
  {
   "cell_type": "code",
   "execution_count": 1,
   "metadata": {
    "ExecuteTime": {
     "end_time": "2020-06-24T13:25:42.549789Z",
     "start_time": "2020-06-24T13:25:37.828485Z"
    }
   },
   "outputs": [
    {
     "name": "stdout",
     "output_type": "stream",
     "text": [
      "Requirement already satisfied: simplekml in /opt/conda/lib/python3.7/site-packages (1.3.5)\n",
      "Requirement already satisfied: pandas in /opt/conda/lib/python3.7/site-packages (1.0.5)\n",
      "Requirement already satisfied: pytz>=2017.2 in /opt/conda/lib/python3.7/site-packages (from pandas) (2020.1)\n",
      "Requirement already satisfied: numpy>=1.13.3 in /opt/conda/lib/python3.7/site-packages (from pandas) (1.19.0)\n",
      "Requirement already satisfied: python-dateutil>=2.6.1 in /opt/conda/lib/python3.7/site-packages (from pandas) (2.8.1)\n",
      "Requirement already satisfied: six>=1.5 in /opt/conda/lib/python3.7/site-packages (from python-dateutil>=2.6.1->pandas) (1.15.0)\n",
      "Requirement already satisfied: folium in /opt/conda/lib/python3.7/site-packages (0.11.0)\n",
      "Requirement already satisfied: requests in /opt/conda/lib/python3.7/site-packages (from folium) (2.24.0)\n",
      "Requirement already satisfied: jinja2>=2.9 in /opt/conda/lib/python3.7/site-packages (from folium) (2.11.2)\n",
      "Requirement already satisfied: branca>=0.3.0 in /opt/conda/lib/python3.7/site-packages (from folium) (0.4.1)\n",
      "Requirement already satisfied: numpy in /opt/conda/lib/python3.7/site-packages (from folium) (1.19.0)\n",
      "Requirement already satisfied: certifi>=2017.4.17 in /opt/conda/lib/python3.7/site-packages (from requests->folium) (2020.4.5.2)\n",
      "Requirement already satisfied: chardet<4,>=3.0.2 in /opt/conda/lib/python3.7/site-packages (from requests->folium) (3.0.4)\n",
      "Requirement already satisfied: idna<3,>=2.5 in /opt/conda/lib/python3.7/site-packages (from requests->folium) (2.9)\n",
      "Requirement already satisfied: urllib3!=1.25.0,!=1.25.1,<1.26,>=1.21.1 in /opt/conda/lib/python3.7/site-packages (from requests->folium) (1.25.9)\n",
      "Requirement already satisfied: MarkupSafe>=0.23 in /opt/conda/lib/python3.7/site-packages (from jinja2>=2.9->folium) (1.1.1)\n"
     ]
    }
   ],
   "source": [
    "# Install any missing libraries\n",
    "!pip install simplekml\n",
    "!pip install pandas\n",
    "!pip install folium"
   ]
  },
  {
   "cell_type": "code",
   "execution_count": 1,
   "metadata": {
    "ExecuteTime": {
     "end_time": "2021-06-04T11:20:45.787779Z",
     "start_time": "2021-06-04T11:20:45.235943Z"
    },
    "scrolled": true
   },
   "outputs": [],
   "source": [
    "# imports\n",
    "import pandas as pd\n",
    "import simplekml\n",
    "import folium"
   ]
  },
  {
   "cell_type": "code",
   "execution_count": 4,
   "metadata": {
    "ExecuteTime": {
     "end_time": "2021-06-04T11:22:53.008740Z",
     "start_time": "2021-06-04T11:22:52.994919Z"
    }
   },
   "outputs": [
    {
     "name": "stdout",
     "output_type": "stream",
     "text": [
      "   Longitude   Latitude                                            Address\n",
      "0  -1.530129  50.889452       \"Ashurst  New Forest SO40 7AR>02380 292097\"\"\n",
      "1  -2.624735  51.812785  \"Bracelands  Forest of Dean GL16 7NP>01594 837...\n",
      "2  -4.581170  56.112450        \"Cashel  Loch Lomond G63 0AW>01360 870234\"\"\n",
      "3  -4.366124  56.158363       \"Cobleland  Trossachs FK8 3RR>01877 382392\"\"\n",
      "4  -1.526756  50.861170    \"Denny Wood  New Forest SO43 7FZ>02380 293144\"\"\n",
      "0         \"Ashurst  New Forest SO40 7AR>02380 292097\"\"\n",
      "1    \"Bracelands  Forest of Dean GL16 7NP>01594 837...\n",
      "2          \"Cashel  Loch Lomond G63 0AW>01360 870234\"\"\n",
      "3         \"Cobleland  Trossachs FK8 3RR>01877 382392\"\"\n",
      "4      \"Denny Wood  New Forest SO43 7FZ>02380 293144\"\"\n",
      "Name: Address, dtype: object\n"
     ]
    }
   ],
   "source": [
    "df = pd.read_csv(\"data/Camping-in-the-Forest.csv\",names=['Longitude','Latitude','Address'], header=0, sep=',')\n",
    "print(df.head(5))\n",
    "print(df['Address'].head())"
   ]
  },
  {
   "cell_type": "markdown",
   "metadata": {},
   "source": [
    "### Extract Site Name, Telephone Number, and Address in to their own columns"
   ]
  },
  {
   "cell_type": "code",
   "execution_count": 8,
   "metadata": {
    "ExecuteTime": {
     "end_time": "2021-06-04T11:30:07.773527Z",
     "start_time": "2021-06-04T11:30:07.745466Z"
    }
   },
   "outputs": [
    {
     "name": "stdout",
     "output_type": "stream",
     "text": [
      "                                       0               1\n",
      "0          \"Ashurst  New Forest SO40 7AR  02380 292097\"\"\n",
      "1   \"Bracelands  Forest of Dean GL16 7NP  01594 837258\"\"\n",
      "2           \"Cashel  Loch Lomond G63 0AW  01360 870234\"\"\n",
      "3          \"Cobleland  Trossachs FK8 3RR  01877 382392\"\"\n",
      "4       \"Denny Wood  New Forest SO43 7FZ  02380 293144\"\"\n",
      "5         \"Glenmore  Cairngorms PH22 1QU  01479 861271\"\"\n",
      "6    \"Hollands Wood  New Forest SO42 7QH  01590 622967\"\"\n",
      "7         \"Holmsley  New Forest BH23 8EB  01425 674502\"\"\n",
      "8        \"Longbeech  New Forest SO43 7HH  02380 812740\"\"\n",
      "9      \"Matley Wood  New Forest SO43 7FZ  02380 293144\"\"\n",
      "10         \"Ocknell  New Forest SO43 7HH  02380 812740\"\"\n",
      "11      \"Postern Hill  Wiltshire SN8 4ND  01672 515195\"\"\n",
      "12       \"Roundhill  New Forest SO42 7QL  01590 624344\"\"\n",
      "13       \"Setthorns  New Forest BH25 5WA  01590 681020\"\"\n"
     ]
    },
    {
     "data": {
      "text/html": [
       "<div>\n",
       "<style scoped>\n",
       "    .dataframe tbody tr th:only-of-type {\n",
       "        vertical-align: middle;\n",
       "    }\n",
       "\n",
       "    .dataframe tbody tr th {\n",
       "        vertical-align: top;\n",
       "    }\n",
       "\n",
       "    .dataframe thead th {\n",
       "        text-align: right;\n",
       "    }\n",
       "</style>\n",
       "<table border=\"1\" class=\"dataframe\">\n",
       "  <thead>\n",
       "    <tr style=\"text-align: right;\">\n",
       "      <th></th>\n",
       "      <th>Longitude</th>\n",
       "      <th>Latitude</th>\n",
       "      <th>PhoneNumber</th>\n",
       "      <th>Town</th>\n",
       "    </tr>\n",
       "  </thead>\n",
       "  <tbody>\n",
       "    <tr>\n",
       "      <th>0</th>\n",
       "      <td>-1.530129</td>\n",
       "      <td>50.889452</td>\n",
       "      <td>02380 292097</td>\n",
       "      <td>\"Ashurst  New Forest SO40 7AR</td>\n",
       "    </tr>\n",
       "    <tr>\n",
       "      <th>1</th>\n",
       "      <td>-2.624735</td>\n",
       "      <td>51.812785</td>\n",
       "      <td>01594 837258</td>\n",
       "      <td>\"Bracelands  Forest of Dean GL16 7NP</td>\n",
       "    </tr>\n",
       "    <tr>\n",
       "      <th>2</th>\n",
       "      <td>-4.581170</td>\n",
       "      <td>56.112450</td>\n",
       "      <td>01360 870234</td>\n",
       "      <td>\"Cashel  Loch Lomond G63 0AW</td>\n",
       "    </tr>\n",
       "    <tr>\n",
       "      <th>3</th>\n",
       "      <td>-4.366124</td>\n",
       "      <td>56.158363</td>\n",
       "      <td>01877 382392</td>\n",
       "      <td>\"Cobleland  Trossachs FK8 3RR</td>\n",
       "    </tr>\n",
       "    <tr>\n",
       "      <th>4</th>\n",
       "      <td>-1.526756</td>\n",
       "      <td>50.861170</td>\n",
       "      <td>02380 293144</td>\n",
       "      <td>\"Denny Wood  New Forest SO43 7FZ</td>\n",
       "    </tr>\n",
       "    <tr>\n",
       "      <th>5</th>\n",
       "      <td>-3.694239</td>\n",
       "      <td>57.167368</td>\n",
       "      <td>01479 861271</td>\n",
       "      <td>\"Glenmore  Cairngorms PH22 1QU</td>\n",
       "    </tr>\n",
       "    <tr>\n",
       "      <th>6</th>\n",
       "      <td>-1.571802</td>\n",
       "      <td>50.829241</td>\n",
       "      <td>01590 622967</td>\n",
       "      <td>\"Hollands Wood  New Forest SO42 7QH</td>\n",
       "    </tr>\n",
       "    <tr>\n",
       "      <th>7</th>\n",
       "      <td>-1.705375</td>\n",
       "      <td>50.792885</td>\n",
       "      <td>01425 674502</td>\n",
       "      <td>\"Holmsley  New Forest BH23 8EB</td>\n",
       "    </tr>\n",
       "    <tr>\n",
       "      <th>8</th>\n",
       "      <td>-1.649765</td>\n",
       "      <td>50.914578</td>\n",
       "      <td>02380 812740</td>\n",
       "      <td>\"Longbeech  New Forest SO43 7HH</td>\n",
       "    </tr>\n",
       "    <tr>\n",
       "      <th>9</th>\n",
       "      <td>-1.534645</td>\n",
       "      <td>50.865636</td>\n",
       "      <td>02380 293144</td>\n",
       "      <td>\"Matley Wood  New Forest SO43 7FZ</td>\n",
       "    </tr>\n",
       "    <tr>\n",
       "      <th>10</th>\n",
       "      <td>-1.642030</td>\n",
       "      <td>50.906916</td>\n",
       "      <td>02380 812740</td>\n",
       "      <td>\"Ocknell  New Forest SO43 7HH</td>\n",
       "    </tr>\n",
       "    <tr>\n",
       "      <th>11</th>\n",
       "      <td>-1.717998</td>\n",
       "      <td>51.409720</td>\n",
       "      <td>01672 515195</td>\n",
       "      <td>\"Postern Hill  Wiltshire SN8 4ND</td>\n",
       "    </tr>\n",
       "    <tr>\n",
       "      <th>12</th>\n",
       "      <td>-1.534923</td>\n",
       "      <td>50.821148</td>\n",
       "      <td>01590 624344</td>\n",
       "      <td>\"Roundhill  New Forest SO42 7QL</td>\n",
       "    </tr>\n",
       "    <tr>\n",
       "      <th>13</th>\n",
       "      <td>-1.627532</td>\n",
       "      <td>50.802342</td>\n",
       "      <td>01590 681020</td>\n",
       "      <td>\"Setthorns  New Forest BH25 5WA</td>\n",
       "    </tr>\n",
       "  </tbody>\n",
       "</table>\n",
       "</div>"
      ],
      "text/plain": [
       "    Longitude   Latitude   PhoneNumber                                  Town\n",
       "0   -1.530129  50.889452  02380 292097         \"Ashurst  New Forest SO40 7AR\n",
       "1   -2.624735  51.812785  01594 837258  \"Bracelands  Forest of Dean GL16 7NP\n",
       "2   -4.581170  56.112450  01360 870234          \"Cashel  Loch Lomond G63 0AW\n",
       "3   -4.366124  56.158363  01877 382392         \"Cobleland  Trossachs FK8 3RR\n",
       "4   -1.526756  50.861170  02380 293144      \"Denny Wood  New Forest SO43 7FZ\n",
       "5   -3.694239  57.167368  01479 861271        \"Glenmore  Cairngorms PH22 1QU\n",
       "6   -1.571802  50.829241  01590 622967   \"Hollands Wood  New Forest SO42 7QH\n",
       "7   -1.705375  50.792885  01425 674502        \"Holmsley  New Forest BH23 8EB\n",
       "8   -1.649765  50.914578  02380 812740       \"Longbeech  New Forest SO43 7HH\n",
       "9   -1.534645  50.865636  02380 293144     \"Matley Wood  New Forest SO43 7FZ\n",
       "10  -1.642030  50.906916  02380 812740         \"Ocknell  New Forest SO43 7HH\n",
       "11  -1.717998  51.409720  01672 515195      \"Postern Hill  Wiltshire SN8 4ND\n",
       "12  -1.534923  50.821148  01590 624344       \"Roundhill  New Forest SO42 7QL\n",
       "13  -1.627532  50.802342  01590 681020       \"Setthorns  New Forest BH25 5WA"
      ]
     },
     "execution_count": 8,
     "metadata": {},
     "output_type": "execute_result"
    }
   ],
   "source": [
    "temp = df['Address'].apply(lambda x: pd.Series(str(x).split('>')))\n",
    "print(temp)  # check if data is okay, one line had less quotes in it for some reason!!\n",
    "\n",
    "df[\"PhoneNumber\"]= temp[1]\n",
    "df['PhoneNumber'] = df['PhoneNumber'].astype(str)\n",
    "\n",
    "# Remove extra quotes the camping club add to the end of each line!\n",
    "df['PhoneNumber'] = df.apply(lambda x: x['PhoneNumber'][:-2], axis=1)\n",
    "\n",
    "# making separate phone number column from new data frame \n",
    "#temp_address = temp[0].apply(lambda x: pd.Series(str(x).split(' - ')))\n",
    "#df[\"Town\"] = temp_address[0]\n",
    "#df[\"SiteName\"] = temp_address[1]\n",
    "\n",
    "#df[\"Town\"] = df.apply(lambda x: x['Town'][1:], axis=1)\n",
    "\n",
    "# Dropping old Address columns \n",
    "df.drop(columns =[\"Address\"], inplace = True) \n",
    "\n",
    "df "
   ]
  },
  {
   "cell_type": "markdown",
   "metadata": {},
   "source": [
    "### Now create kml file for use by maps.me\n",
    "\n",
    "### Once the .kml file has been created for maps.me will need to edit the file and change all instances of <styleUrl>#<number></styleUrl> with a valid maps.me styleUrl\n",
    "    \n",
    "<styleUrl>#placemark-blue</styleUrl>\n",
    "<styleUrl>#placemark-red</styleUrl>\n",
    "<styleUrl>#placemark-green</styleUrl>  \n",
    "<styleUrl>#placemark-yellow</styleUrl>\n",
    "<styleUrl>#placemark-brown</styleUrl>\n",
    "<styleUrl>#placemark-orange</styleUrl>\n",
    "<styleUrl>#placemark-pink</styleUrl>    \n",
    "<styleUrl>#placemark-purple</styleUrl> *"
   ]
  },
  {
   "cell_type": "code",
   "execution_count": 11,
   "metadata": {
    "ExecuteTime": {
     "end_time": "2021-06-04T11:31:53.919322Z",
     "start_time": "2021-06-04T11:31:53.878383Z"
    }
   },
   "outputs": [
    {
     "ename": "KeyError",
     "evalue": "'SiteName'",
     "output_type": "error",
     "traceback": [
      "\u001b[0;31m---------------------------------------------------------------------------\u001b[0m",
      "\u001b[0;31mKeyError\u001b[0m                                  Traceback (most recent call last)",
      "\u001b[0;32m/opt/conda/lib/python3.9/site-packages/pandas/core/indexes/base.py\u001b[0m in \u001b[0;36mget_loc\u001b[0;34m(self, key, method, tolerance)\u001b[0m\n\u001b[1;32m   3079\u001b[0m             \u001b[0;32mtry\u001b[0m\u001b[0;34m:\u001b[0m\u001b[0;34m\u001b[0m\u001b[0;34m\u001b[0m\u001b[0m\n\u001b[0;32m-> 3080\u001b[0;31m                 \u001b[0;32mreturn\u001b[0m \u001b[0mself\u001b[0m\u001b[0;34m.\u001b[0m\u001b[0m_engine\u001b[0m\u001b[0;34m.\u001b[0m\u001b[0mget_loc\u001b[0m\u001b[0;34m(\u001b[0m\u001b[0mcasted_key\u001b[0m\u001b[0;34m)\u001b[0m\u001b[0;34m\u001b[0m\u001b[0;34m\u001b[0m\u001b[0m\n\u001b[0m\u001b[1;32m   3081\u001b[0m             \u001b[0;32mexcept\u001b[0m \u001b[0mKeyError\u001b[0m \u001b[0;32mas\u001b[0m \u001b[0merr\u001b[0m\u001b[0;34m:\u001b[0m\u001b[0;34m\u001b[0m\u001b[0;34m\u001b[0m\u001b[0m\n",
      "\u001b[0;32mpandas/_libs/index.pyx\u001b[0m in \u001b[0;36mpandas._libs.index.IndexEngine.get_loc\u001b[0;34m()\u001b[0m\n",
      "\u001b[0;32mpandas/_libs/index.pyx\u001b[0m in \u001b[0;36mpandas._libs.index.IndexEngine.get_loc\u001b[0;34m()\u001b[0m\n",
      "\u001b[0;32mpandas/_libs/hashtable_class_helper.pxi\u001b[0m in \u001b[0;36mpandas._libs.hashtable.PyObjectHashTable.get_item\u001b[0;34m()\u001b[0m\n",
      "\u001b[0;32mpandas/_libs/hashtable_class_helper.pxi\u001b[0m in \u001b[0;36mpandas._libs.hashtable.PyObjectHashTable.get_item\u001b[0;34m()\u001b[0m\n",
      "\u001b[0;31mKeyError\u001b[0m: 'SiteName'",
      "\nThe above exception was the direct cause of the following exception:\n",
      "\u001b[0;31mKeyError\u001b[0m                                  Traceback (most recent call last)",
      "\u001b[0;32m<ipython-input-11-44422c777b74>\u001b[0m in \u001b[0;36m<module>\u001b[0;34m\u001b[0m\n\u001b[1;32m     19\u001b[0m     \u001b[0mpnt\u001b[0m\u001b[0;34m.\u001b[0m\u001b[0mdescription\u001b[0m \u001b[0;34m=\u001b[0m \u001b[0maddress\u001b[0m\u001b[0;34m\u001b[0m\u001b[0;34m\u001b[0m\u001b[0m\n\u001b[1;32m     20\u001b[0m \u001b[0;34m\u001b[0m\u001b[0m\n\u001b[0;32m---> 21\u001b[0;31m     \u001b[0mpopupText\u001b[0m \u001b[0;34m=\u001b[0m \u001b[0mfolium\u001b[0m\u001b[0;34m.\u001b[0m\u001b[0mHtml\u001b[0m\u001b[0;34m(\u001b[0m\u001b[0;34m'<p>'\u001b[0m\u001b[0;34m+\u001b[0m\u001b[0mrow\u001b[0m\u001b[0;34m[\u001b[0m\u001b[0;34m'SiteName'\u001b[0m\u001b[0;34m]\u001b[0m\u001b[0;34m+\u001b[0m\u001b[0;34m'</p><p>'\u001b[0m\u001b[0;34m+\u001b[0m\u001b[0;34m'</p><p>'\u001b[0m\u001b[0;34m+\u001b[0m\u001b[0mrow\u001b[0m\u001b[0;34m[\u001b[0m\u001b[0;34m'PhoneNumber'\u001b[0m\u001b[0;34m]\u001b[0m\u001b[0;34m+\u001b[0m\u001b[0;34m'</p>'\u001b[0m\u001b[0;34m,\u001b[0m \u001b[0mscript\u001b[0m\u001b[0;34m=\u001b[0m\u001b[0;32mTrue\u001b[0m\u001b[0;34m)\u001b[0m\u001b[0;34m\u001b[0m\u001b[0;34m\u001b[0m\u001b[0m\n\u001b[0m\u001b[1;32m     22\u001b[0m     \u001b[0;31m#popupText = folium.Html('<p>'+row['SiteName']+'</p><p>'+row['SiteAddress']+'</p>', script=True)\u001b[0m\u001b[0;34m\u001b[0m\u001b[0;34m\u001b[0m\u001b[0;34m\u001b[0m\u001b[0m\n\u001b[1;32m     23\u001b[0m     \u001b[0mpopup\u001b[0m \u001b[0;34m=\u001b[0m \u001b[0mfolium\u001b[0m\u001b[0;34m.\u001b[0m\u001b[0mPopup\u001b[0m\u001b[0;34m(\u001b[0m\u001b[0mpopupText\u001b[0m\u001b[0;34m,\u001b[0m \u001b[0mmax_width\u001b[0m\u001b[0;34m=\u001b[0m\u001b[0;36m300\u001b[0m\u001b[0;34m)\u001b[0m\u001b[0;34m\u001b[0m\u001b[0;34m\u001b[0m\u001b[0m\n",
      "\u001b[0;32m/opt/conda/lib/python3.9/site-packages/pandas/core/series.py\u001b[0m in \u001b[0;36m__getitem__\u001b[0;34m(self, key)\u001b[0m\n\u001b[1;32m    851\u001b[0m \u001b[0;34m\u001b[0m\u001b[0m\n\u001b[1;32m    852\u001b[0m         \u001b[0;32melif\u001b[0m \u001b[0mkey_is_scalar\u001b[0m\u001b[0;34m:\u001b[0m\u001b[0;34m\u001b[0m\u001b[0;34m\u001b[0m\u001b[0m\n\u001b[0;32m--> 853\u001b[0;31m             \u001b[0;32mreturn\u001b[0m \u001b[0mself\u001b[0m\u001b[0;34m.\u001b[0m\u001b[0m_get_value\u001b[0m\u001b[0;34m(\u001b[0m\u001b[0mkey\u001b[0m\u001b[0;34m)\u001b[0m\u001b[0;34m\u001b[0m\u001b[0;34m\u001b[0m\u001b[0m\n\u001b[0m\u001b[1;32m    854\u001b[0m \u001b[0;34m\u001b[0m\u001b[0m\n\u001b[1;32m    855\u001b[0m         \u001b[0;32mif\u001b[0m \u001b[0mis_hashable\u001b[0m\u001b[0;34m(\u001b[0m\u001b[0mkey\u001b[0m\u001b[0;34m)\u001b[0m\u001b[0;34m:\u001b[0m\u001b[0;34m\u001b[0m\u001b[0;34m\u001b[0m\u001b[0m\n",
      "\u001b[0;32m/opt/conda/lib/python3.9/site-packages/pandas/core/series.py\u001b[0m in \u001b[0;36m_get_value\u001b[0;34m(self, label, takeable)\u001b[0m\n\u001b[1;32m    959\u001b[0m \u001b[0;34m\u001b[0m\u001b[0m\n\u001b[1;32m    960\u001b[0m         \u001b[0;31m# Similar to Index.get_value, but we do not fall back to positional\u001b[0m\u001b[0;34m\u001b[0m\u001b[0;34m\u001b[0m\u001b[0;34m\u001b[0m\u001b[0m\n\u001b[0;32m--> 961\u001b[0;31m         \u001b[0mloc\u001b[0m \u001b[0;34m=\u001b[0m \u001b[0mself\u001b[0m\u001b[0;34m.\u001b[0m\u001b[0mindex\u001b[0m\u001b[0;34m.\u001b[0m\u001b[0mget_loc\u001b[0m\u001b[0;34m(\u001b[0m\u001b[0mlabel\u001b[0m\u001b[0;34m)\u001b[0m\u001b[0;34m\u001b[0m\u001b[0;34m\u001b[0m\u001b[0m\n\u001b[0m\u001b[1;32m    962\u001b[0m         \u001b[0;32mreturn\u001b[0m \u001b[0mself\u001b[0m\u001b[0;34m.\u001b[0m\u001b[0mindex\u001b[0m\u001b[0;34m.\u001b[0m\u001b[0m_get_values_for_loc\u001b[0m\u001b[0;34m(\u001b[0m\u001b[0mself\u001b[0m\u001b[0;34m,\u001b[0m \u001b[0mloc\u001b[0m\u001b[0;34m,\u001b[0m \u001b[0mlabel\u001b[0m\u001b[0;34m)\u001b[0m\u001b[0;34m\u001b[0m\u001b[0;34m\u001b[0m\u001b[0m\n\u001b[1;32m    963\u001b[0m \u001b[0;34m\u001b[0m\u001b[0m\n",
      "\u001b[0;32m/opt/conda/lib/python3.9/site-packages/pandas/core/indexes/base.py\u001b[0m in \u001b[0;36mget_loc\u001b[0;34m(self, key, method, tolerance)\u001b[0m\n\u001b[1;32m   3080\u001b[0m                 \u001b[0;32mreturn\u001b[0m \u001b[0mself\u001b[0m\u001b[0;34m.\u001b[0m\u001b[0m_engine\u001b[0m\u001b[0;34m.\u001b[0m\u001b[0mget_loc\u001b[0m\u001b[0;34m(\u001b[0m\u001b[0mcasted_key\u001b[0m\u001b[0;34m)\u001b[0m\u001b[0;34m\u001b[0m\u001b[0;34m\u001b[0m\u001b[0m\n\u001b[1;32m   3081\u001b[0m             \u001b[0;32mexcept\u001b[0m \u001b[0mKeyError\u001b[0m \u001b[0;32mas\u001b[0m \u001b[0merr\u001b[0m\u001b[0;34m:\u001b[0m\u001b[0;34m\u001b[0m\u001b[0;34m\u001b[0m\u001b[0m\n\u001b[0;32m-> 3082\u001b[0;31m                 \u001b[0;32mraise\u001b[0m \u001b[0mKeyError\u001b[0m\u001b[0;34m(\u001b[0m\u001b[0mkey\u001b[0m\u001b[0;34m)\u001b[0m \u001b[0;32mfrom\u001b[0m \u001b[0merr\u001b[0m\u001b[0;34m\u001b[0m\u001b[0;34m\u001b[0m\u001b[0m\n\u001b[0m\u001b[1;32m   3083\u001b[0m \u001b[0;34m\u001b[0m\u001b[0m\n\u001b[1;32m   3084\u001b[0m         \u001b[0;32mif\u001b[0m \u001b[0mtolerance\u001b[0m \u001b[0;32mis\u001b[0m \u001b[0;32mnot\u001b[0m \u001b[0;32mNone\u001b[0m\u001b[0;34m:\u001b[0m\u001b[0;34m\u001b[0m\u001b[0;34m\u001b[0m\u001b[0m\n",
      "\u001b[0;31mKeyError\u001b[0m: 'SiteName'"
     ]
    }
   ],
   "source": [
    "kml = simplekml.Kml()\n",
    "style = simplekml.Style()\n",
    "style.iconstyle.icon.href = 'http://maps.google.com/mapfiles/kml/paddle/pink-blank.png'\n",
    "style.iconstyle.scale = 1\n",
    "\n",
    "map = folium.Map(location=[54.0, -1.0], zoom_start=6)\n",
    "for index, row in df.iterrows():\n",
    "    #name = row['SiteName'] + ', ' + row['SiteAddress'] + ', ' + row['PhoneNumber']\n",
    "    #name = row['SiteName']\n",
    "    #address = row['Town'] + ', ' + row['SiteName'] + ', ' + row['PhoneNumber']\n",
    "    name = row['Town'] \n",
    "    address = row['Town'] + ', ' + row['PhoneNumber']\n",
    "    phonenumber = row['PhoneNumber']\n",
    "    coords = [(row['Longitude'], row['Latitude'])]\n",
    "    pnt = kml.newpoint(name=name)\n",
    "    pnt.coords = coords\n",
    "    pnt.style = style\n",
    "    pnt.phonenumber = phonenumber\n",
    "    pnt.description = address\n",
    "    \n",
    "    popupText = folium.Html('<p>'+row['Town']+'</p><p>'+'</p><p>'+row['PhoneNumber']+'</p>', script=True)\n",
    "    #popupText = folium.Html('<p>'+row['SiteName']+'</p><p>'+row['SiteAddress']+'</p>', script=True)\n",
    "    popup = folium.Popup(popupText, max_width=300)\n",
    "    folium.Marker([row['Latitude'], row['Longitude']],\n",
    "                 popup=popup,\n",
    "                 icon=folium.Icon(color='pink', icon='info-sign')).add_to(map)\n",
    "    \n",
    "kml.save(path=\"poi/ccc-forest-2021.kml\")\n",
    "map.save(\"poi/ccc-forest-2021.html\")\n",
    "map"
   ]
  },
  {
   "cell_type": "code",
   "execution_count": 46,
   "metadata": {
    "ExecuteTime": {
     "end_time": "2020-06-24T11:31:24.384761Z",
     "start_time": "2020-06-24T11:31:24.382350Z"
    }
   },
   "outputs": [],
   "source": [
    "#!pip list"
   ]
  },
  {
   "cell_type": "code",
   "execution_count": null,
   "metadata": {},
   "outputs": [],
   "source": []
  }
 ],
 "metadata": {
  "kernelspec": {
   "display_name": "Python 3",
   "language": "python",
   "name": "python3"
  },
  "language_info": {
   "codemirror_mode": {
    "name": "ipython",
    "version": 3
   },
   "file_extension": ".py",
   "mimetype": "text/x-python",
   "name": "python",
   "nbconvert_exporter": "python",
   "pygments_lexer": "ipython3",
   "version": "3.9.2"
  },
  "toc": {
   "base_numbering": 1,
   "nav_menu": {},
   "number_sections": true,
   "sideBar": true,
   "skip_h1_title": false,
   "title_cell": "Table of Contents",
   "title_sidebar": "Contents",
   "toc_cell": false,
   "toc_position": {},
   "toc_section_display": true,
   "toc_window_display": false
  }
 },
 "nbformat": 4,
 "nbformat_minor": 4
}
